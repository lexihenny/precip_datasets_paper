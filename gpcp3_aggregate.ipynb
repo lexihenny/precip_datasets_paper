{
 "cells": [
  {
   "cell_type": "code",
   "execution_count": null,
   "id": "0b6c61f4",
   "metadata": {},
   "outputs": [],
   "source": [
    "import numpy as np\n",
    "import xarray as xr\n",
    "import matplotlib.pyplot as plt\n",
    "import cartopy.crs as ccrs\n",
    "import os,errno\n",
    "import sys\n",
    "import datetime as dt\n",
    "import pandas as pd\n",
    "import glob\n",
    "\n",
    "dir_data='/Users/ahenny/'\n",
    "dir2='/Volumes/Extreme Pro/'"
   ]
  },
  {
   "cell_type": "code",
   "execution_count": null,
   "id": "76899184",
   "metadata": {
    "scrolled": true
   },
   "outputs": [],
   "source": [
    "month_days=[31,28,31,30,31,30,31,31,30,31,30,31]\n",
    "yrs=np.arange(2000,2022,1)\n",
    "for i in range(len(yrs)):\n",
    "    year=yrs[i]\n",
    "    print(year)\n",
    "    count=0\n",
    "    month_days[1]=28\n",
    "    if year%4==0:\n",
    "        month_days[1]=29\n",
    "    start=0\n",
    "    end=12\n",
    "    if year==2000:\n",
    "        start=5\n",
    "    if year==2021:\n",
    "        end=8\n",
    "    for j in range(start,end):\n",
    "        print(j+1)\n",
    "        if j<9:\n",
    "            month_str='0'+str(j+1)\n",
    "        else:\n",
    "            month_str=str(j+1)\n",
    "        for k in range(month_days[j]):\n",
    "            if k<9:\n",
    "                day_str='0'+str(k+1)\n",
    "            else:\n",
    "                day_str=str(k+1)\n",
    "            \n",
    "            files=glob.glob(dir_data+'GPCPDAY_L3_'+str(year)+month_str+day_str+'*')\n",
    "            \n",
    "            if len(files)==1:\n",
    "                ds=xr.open_dataset(files[0])\n",
    "                precip=ds['precip']\n",
    "                \n",
    "                if count==0:\n",
    "                    precip_concat=precip\n",
    "                    count=1\n",
    "                else:\n",
    "                    precip_concat=xr.concat([precip_concat,precip],dim='time')\n",
    "                \n",
    "            else:\n",
    "                print('ERROR')\n",
    "                print(str(year)+month_str+day_str)\n",
    "    \n",
    "    dk=xr.Dataset()\n",
    "    dk['precip']=(('time','lat','lon'),precip_concat.values)\n",
    "    dk.coords['time']=precip_concat.time\n",
    "    dk.coords['lat']=precip_concat.lat.values\n",
    "    dk.coords['lon']=precip_concat.lon.values\n",
    "    dk['precip'].attrs[\"units\"]='mm*day-1'\n",
    "    dk['lat'].attrs[\"units\"]='degrees_north'\n",
    "    dk['lon'].attrs[\"units\"]='degrees_east'\n",
    "    try:\n",
    "        os.remove(dir_data+'gpcp3_precip_'+str(year)+'.nc')\n",
    "    except OSError:\n",
    "        pass\n",
    "    dk.to_netcdf(dir_data+'gpcp3_precip_'+str(year)+'.nc',mode='w',format='NETCDF4')"
   ]
  },
  {
   "cell_type": "code",
   "execution_count": null,
   "id": "54d9840c",
   "metadata": {},
   "outputs": [],
   "source": [
    "ds=xr.open_dataset(dir_data+'gpcp3_precip_'+str(2021)+'.nc')\n",
    "test=ds['precip'][100,:,:]\n",
    "print(ds)\n",
    "\n",
    "fig=plt.figure(figsize=(20,10))\n",
    "ax=plt.subplot(1,1,1,projection=ccrs.PlateCarree())\n",
    "ax.pcolormesh(test.lon,test.lat,test,vmin=0,vmax=50,cmap=plt.cm.RdYlGn_r)\n",
    "ax.coastlines(resolution='10m')\n",
    "plt.show()"
   ]
  },
  {
   "cell_type": "code",
   "execution_count": null,
   "id": "737a10c2",
   "metadata": {},
   "outputs": [],
   "source": []
  }
 ],
 "metadata": {
  "kernelspec": {
   "display_name": "Python 3 (ipykernel)",
   "language": "python",
   "name": "python3"
  },
  "language_info": {
   "codemirror_mode": {
    "name": "ipython",
    "version": 3
   },
   "file_extension": ".py",
   "mimetype": "text/x-python",
   "name": "python",
   "nbconvert_exporter": "python",
   "pygments_lexer": "ipython3",
   "version": "3.9.12"
  }
 },
 "nbformat": 4,
 "nbformat_minor": 5
}
