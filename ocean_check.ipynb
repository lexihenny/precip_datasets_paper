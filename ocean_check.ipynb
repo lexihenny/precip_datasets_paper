{
 "cells": [
  {
   "cell_type": "code",
   "execution_count": null,
   "id": "b26f747e",
   "metadata": {},
   "outputs": [],
   "source": [
    "###Script for checking precip threshold frequencies...not used in papers\n",
    "\n",
    "import numpy as np\n",
    "import xarray as xr\n",
    "import scipy.stats as st\n",
    "import cartopy.crs as ccrs\n",
    "import matplotlib.pyplot as plt\n",
    "import requests\n",
    "import os,errno\n",
    "import sys\n",
    "from cartopy.mpl.gridliner import LONGITUDE_FORMATTER,LATITUDE_FORMATTER\n",
    "import matplotlib.ticker as mticker\n",
    "import cartopy.feature as cfeature\n",
    "import datetime as dt\n",
    "import pandas as pd\n",
    "import time\n",
    "import urllib.request\n",
    "import metpy.calc as mpcalc\n",
    "import salem\n",
    "import scipy.optimize as opt\n",
    "import warnings\n",
    "import geopy.distance\n",
    "import matplotlib as mpl\n",
    "import matplotlib.colors as mcolors\n",
    "from matplotlib.lines import Line2D\n",
    "import matplotlib.backends.backend_pdf\n",
    "\n",
    "from scipy.ndimage.measurements import label\n",
    "from scipy.ndimage import binary_dilation\n",
    "\n",
    "warnings.filterwarnings('ignore')\n",
    "\n",
    "%matplotlib inline\n",
    "\n",
    "dir_data='/Users/ahenny/'\n",
    "dir1='/Volumes/LaCie/'\n",
    "dir2='/Volumes/Extreme Pro/'\n",
    "dir3='/Volumes/My Passport/day/'"
   ]
  },
  {
   "cell_type": "code",
   "execution_count": null,
   "id": "e0cd1cea",
   "metadata": {
    "scrolled": true
   },
   "outputs": [],
   "source": [
    "#yrs=np.arange(1997,2023,1)\n",
    "#yrs=np.arange(2009,2023,1)\n",
    "yrs=np.arange(1997,2005,1)\n",
    "#yrs=[x for x in np.arange(1980,2023) if x not in yrs]\n",
    "for i in range(len(yrs)):\n",
    "    year=yrs[i]\n",
    "    print(year)\n",
    "    #ds=xr.open_dataset(dir_data+'holding/'+'gpcp_precip_'+str(year)+'.nc')\n",
    "    ds=xr.open_dataset(dir_data+'holding/'+'merra2_precip_'+str(year)+'.nc')\n",
    "    freq=xr.ones_like(ds['precip']).where(ds['precip']>=50.).sum(dim='time',skipna=True)\n",
    "    if i==0:\n",
    "        freq_concat=freq\n",
    "    else:\n",
    "        freq_concat=xr.concat([freq_concat,freq],dim='time')"
   ]
  },
  {
   "cell_type": "code",
   "execution_count": null,
   "id": "9fbe1365",
   "metadata": {},
   "outputs": [],
   "source": [
    "field=freq_concat.mean(dim='time',skipna=True)\n",
    "\n",
    "from matplotlib.colors import ListedColormap\n",
    "cmap1=plt.cm.BrBG(np.linspace(0.1,0.9,128))\n",
    "cmap_new=ListedColormap(cmap1)\n",
    "\n",
    "fig=plt.figure(figsize=(24,7))#24,12\n",
    "ax=plt.subplot(1,1,1,projection=ccrs.PlateCarree())\n",
    "cax=ax.pcolormesh(field.lon,field.lat,field,vmin=0,vmax=2,cmap=cmap_new,transform=ccrs.PlateCarree(),alpha=1.0)   \n",
    "cbar=plt.colorbar(cax,pad=0,fraction=0.046,extend='max',aspect=15,ticks=[0.5,1,1.5,2])\n",
    "\n",
    "g1=ax.gridlines(crs=ccrs.PlateCarree(),draw_labels=True,linewidth=1.5,color='gray',alpha=0.0,linestyle='--')\n",
    "cbar.ax.tick_params(labelsize=26) \n",
    "cbar.set_label('days yr$^{-1}$',fontsize=27,labelpad=5)\n",
    "ax.coastlines(resolution='10m',linewidth=2)\n",
    "countries = cfeature.NaturalEarthFeature(category='cultural',name='admin_0_boundary_lines_land',scale='50m',facecolor='none')\n",
    "ax.add_feature(countries)\n",
    "g1.xlabel_style={'size':24,'color':'k'}\n",
    "g1.ylabel_style={'size':24,'color':'k'}\n",
    "g1.xformatter=LONGITUDE_FORMATTER\n",
    "g1.yformatter=LATITUDE_FORMATTER\n",
    "g1.top_labels=False\n",
    "g1.right_labels=False\n",
    "ax.set_ylim(-60,70)\n",
    "            \n",
    "#ax.set_title(r'$\\bf{Wet}$'+' '+r'$\\bf{day}$'+' '+r'$\\bf{total}$',fontsize=37,pad=5)\n",
    "#ax.set_title('Wet day total',fontsize=46,pad=5)\n",
    "#ax.set_title(r'$\\bf{F50mm,}$'+' '+r'$\\bf{GPCP}$'+' '+r'$\\bf{v01r03,}$'+' '+r'$\\bf{2009-2023}$',fontsize=38,pad=0)\n",
    "ax.set_title(r'$\\bf{F50mm,}$'+' '+r'$\\bf{MERRA-2,}$'+' '+r'$\\bf{1997-2004}$',fontsize=38,pad=0)\n",
    "\n",
    "plt.show()"
   ]
  },
  {
   "cell_type": "code",
   "execution_count": null,
   "id": "a2e7a3f1",
   "metadata": {},
   "outputs": [],
   "source": [
    "fig.savefig(dir_data+'merra2_check_2a.png')"
   ]
  },
  {
   "cell_type": "code",
   "execution_count": null,
   "id": "8b25b0ca",
   "metadata": {},
   "outputs": [],
   "source": [
    "year=2010\n",
    "ds=xr.open_dataset(dir_data+'holding/'+'merra2_precip_'+str(year)+'.nc')\n",
    "freq_70_merra2=xr.ones_like(ds['precip']).where(ds['precip']>=60.).sum(dim='time',skipna=True)"
   ]
  },
  {
   "cell_type": "code",
   "execution_count": null,
   "id": "99c85653",
   "metadata": {},
   "outputs": [],
   "source": [
    "year=2015\n",
    "ds=xr.open_dataset(dir_data+'holding/'+'gpcp_precip_'+str(year)+'.nc')\n",
    "freq_70_gpcp=xr.ones_like(ds['precip']).where(ds['precip']>=10.).sum(dim='time',skipna=True)\n",
    "ds=xr.open_dataset(dir_data+'holding/'+'era_5_precip_'+str(year)+'.nc')\n",
    "freq_70_era5=xr.ones_like(ds['precip']).where(ds['precip']>=10.).sum(dim='time',skipna=True)"
   ]
  },
  {
   "cell_type": "code",
   "execution_count": null,
   "id": "17179ac4",
   "metadata": {},
   "outputs": [],
   "source": [
    "field=freq_70_era5\n",
    "\n",
    "from matplotlib.colors import ListedColormap\n",
    "cmap1=plt.cm.BrBG(np.linspace(0.1,0.9,128))\n",
    "cmap_new=ListedColormap(cmap1)\n",
    "\n",
    "fig=plt.figure(figsize=(24,7))#24,12\n",
    "ax=plt.subplot(1,1,1,projection=ccrs.PlateCarree())\n",
    "cax=ax.pcolormesh(field.lon,field.lat,field,vmin=0,vmax=6,cmap=cmap_new,transform=ccrs.PlateCarree(),alpha=1.0)   \n",
    "cbar=plt.colorbar(cax,pad=0,fraction=0.046,extend='max',aspect=15,ticks=np.arange(1,7,1))\n",
    "\n",
    "g1=ax.gridlines(crs=ccrs.PlateCarree(),draw_labels=True,linewidth=1.5,color='gray',alpha=0.0,linestyle='--')\n",
    "cbar.ax.tick_params(labelsize=26) \n",
    "cbar.set_label('days yr$^{-1}$',fontsize=27,labelpad=5)\n",
    "ax.coastlines(resolution='10m',linewidth=2)\n",
    "countries = cfeature.NaturalEarthFeature(category='cultural',name='admin_0_boundary_lines_land',scale='50m',facecolor='none')\n",
    "ax.add_feature(countries)\n",
    "g1.xlabel_style={'size':24,'color':'k'}\n",
    "g1.ylabel_style={'size':24,'color':'k'}\n",
    "g1.xformatter=LONGITUDE_FORMATTER\n",
    "g1.yformatter=LATITUDE_FORMATTER\n",
    "g1.top_labels=False\n",
    "g1.right_labels=False\n",
    "ax.set_ylim(-60,70)\n",
    "            \n",
    "#ax.set_title(r'$\\bf{Wet}$'+' '+r'$\\bf{day}$'+' '+r'$\\bf{total}$',fontsize=37,pad=5)\n",
    "#ax.set_title('Wet day total',fontsize=46,pad=5)\n",
    "ax.set_title(r'$\\bf{F70mm,}$'+' '+r'$\\bf{2002,}$'+' '+r'$\\bf{ERA5}$',fontsize=38,pad=0)\n",
    "plt.show()"
   ]
  },
  {
   "cell_type": "code",
   "execution_count": null,
   "id": "9183c8e6",
   "metadata": {},
   "outputs": [],
   "source": [
    "fig.savefig(dir_data+'ocean_check_1.png')"
   ]
  },
  {
   "cell_type": "code",
   "execution_count": null,
   "id": "1769a461",
   "metadata": {},
   "outputs": [],
   "source": [
    "field=freq_70_gpcp\n",
    "\n",
    "from matplotlib.colors import ListedColormap\n",
    "cmap1=plt.cm.BrBG(np.linspace(0.1,0.9,128))\n",
    "cmap_new=ListedColormap(cmap1)\n",
    "\n",
    "fig=plt.figure(figsize=(24,7))#24,12\n",
    "ax=plt.subplot(1,1,1,projection=ccrs.PlateCarree())\n",
    "#cax=ax.pcolormesh(field.lon,field.lat,field,vmin=0,vmax=6,cmap=cmap_new,transform=ccrs.PlateCarree(),alpha=1.0)   \n",
    "cax=ax.pcolormesh(field.lon,field.lat,field,vmin=0,vmax=60,cmap=cmap_new,transform=ccrs.PlateCarree(),alpha=1.0)   \n",
    "\n",
    "cbar=plt.colorbar(cax,pad=0,fraction=0.046,extend='max',aspect=15,ticks=np.arange(1,7,1))\n",
    "\n",
    "g1=ax.gridlines(crs=ccrs.PlateCarree(),draw_labels=True,linewidth=1.5,color='gray',alpha=0.0,linestyle='--')\n",
    "cbar.ax.tick_params(labelsize=26) \n",
    "cbar.set_label('days yr$^{-1}$',fontsize=27,labelpad=5)\n",
    "ax.coastlines(resolution='10m',linewidth=2)\n",
    "countries = cfeature.NaturalEarthFeature(category='cultural',name='admin_0_boundary_lines_land',scale='50m',facecolor='none')\n",
    "ax.add_feature(countries)\n",
    "g1.xlabel_style={'size':24,'color':'k'}\n",
    "g1.ylabel_style={'size':24,'color':'k'}\n",
    "g1.xformatter=LONGITUDE_FORMATTER\n",
    "g1.yformatter=LATITUDE_FORMATTER\n",
    "g1.top_labels=False\n",
    "g1.right_labels=False\n",
    "ax.set_ylim(-60,70)\n",
    "            \n",
    "#ax.set_title(r'$\\bf{Wet}$'+' '+r'$\\bf{day}$'+' '+r'$\\bf{total}$',fontsize=37,pad=5)\n",
    "#ax.set_title('Wet day total',fontsize=46,pad=5)\n",
    "ax.set_title(r'$\\bf{F10mm,}$'+' '+r'$\\bf{2015,}$'+' '+r'$\\bf{GPCP}$'+' '+r'$\\bf{v01r03}$',fontsize=38,pad=0)\n",
    "plt.show()"
   ]
  },
  {
   "cell_type": "code",
   "execution_count": null,
   "id": "156a16be",
   "metadata": {},
   "outputs": [],
   "source": [
    "fig.savefig(dir_data+'ocean_check_4.png')"
   ]
  },
  {
   "cell_type": "code",
   "execution_count": null,
   "id": "e2f4139d",
   "metadata": {},
   "outputs": [],
   "source": [
    "field=freq_70_merra2\n",
    "\n",
    "from matplotlib.colors import ListedColormap\n",
    "cmap1=plt.cm.BrBG(np.linspace(0.1,0.9,128))\n",
    "cmap_new=ListedColormap(cmap1)\n",
    "\n",
    "fig=plt.figure(figsize=(24,7))#24,12\n",
    "ax=plt.subplot(1,1,1,projection=ccrs.PlateCarree())\n",
    "#cax=ax.pcolormesh(field.lon,field.lat,field,vmin=0,vmax=6,cmap=cmap_new,transform=ccrs.PlateCarree(),alpha=1.0)   \n",
    "cax=ax.pcolormesh(field.lon,field.lat,field,vmin=0,vmax=6,cmap=cmap_new,transform=ccrs.PlateCarree(),alpha=1.0)   \n",
    "\n",
    "cbar=plt.colorbar(cax,pad=0,fraction=0.046,extend='max',aspect=15,ticks=np.arange(1,7,1))\n",
    "\n",
    "g1=ax.gridlines(crs=ccrs.PlateCarree(),draw_labels=True,linewidth=1.5,color='gray',alpha=0.0,linestyle='--')\n",
    "cbar.ax.tick_params(labelsize=26) \n",
    "cbar.set_label('days yr$^{-1}$',fontsize=27,labelpad=5)\n",
    "ax.coastlines(resolution='10m',linewidth=2)\n",
    "countries = cfeature.NaturalEarthFeature(category='cultural',name='admin_0_boundary_lines_land',scale='50m',facecolor='none')\n",
    "ax.add_feature(countries)\n",
    "g1.xlabel_style={'size':24,'color':'k'}\n",
    "g1.ylabel_style={'size':24,'color':'k'}\n",
    "g1.xformatter=LONGITUDE_FORMATTER\n",
    "g1.yformatter=LATITUDE_FORMATTER\n",
    "g1.top_labels=False\n",
    "g1.right_labels=False\n",
    "ax.set_ylim(-60,70)\n",
    "            \n",
    "#ax.set_title(r'$\\bf{Wet}$'+' '+r'$\\bf{day}$'+' '+r'$\\bf{total}$',fontsize=37,pad=5)\n",
    "#ax.set_title('Wet day total',fontsize=46,pad=5)\n",
    "ax.set_title(r'$\\bf{F60mm,}$'+' '+r'$\\bf{2010,}$'+' '+r'$\\bf{MERRA-2}$',fontsize=38,pad=0)\n",
    "plt.show()"
   ]
  },
  {
   "cell_type": "code",
   "execution_count": null,
   "id": "97c58197",
   "metadata": {},
   "outputs": [],
   "source": [
    "fig.savefig(dir_data+'ocean_check_5b.png')"
   ]
  },
  {
   "cell_type": "code",
   "execution_count": null,
   "id": "6bafa744",
   "metadata": {},
   "outputs": [],
   "source": []
  }
 ],
 "metadata": {
  "kernelspec": {
   "display_name": "Python 3 (ipykernel)",
   "language": "python",
   "name": "python3"
  },
  "language_info": {
   "codemirror_mode": {
    "name": "ipython",
    "version": 3
   },
   "file_extension": ".py",
   "mimetype": "text/x-python",
   "name": "python",
   "nbconvert_exporter": "python",
   "pygments_lexer": "ipython3",
   "version": "3.9.12"
  }
 },
 "nbformat": 4,
 "nbformat_minor": 5
}
