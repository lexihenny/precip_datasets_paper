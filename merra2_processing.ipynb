{
 "cells": [
  {
   "cell_type": "code",
   "execution_count": null,
   "id": "06b722fa",
   "metadata": {},
   "outputs": [],
   "source": [
    "import numpy as np\n",
    "import xarray as xr\n",
    "import os,errno\n",
    "import sys\n",
    "import datetime as dt\n",
    "import pandas as pd\n",
    "import glob\n",
    "\n",
    "dir_data='/Users/ahenny/'\n",
    "dir2='/Volumes/Extreme Pro/'"
   ]
  },
  {
   "cell_type": "code",
   "execution_count": null,
   "id": "5d182fb5",
   "metadata": {
    "scrolled": true
   },
   "outputs": [],
   "source": [
    "month_days=[31,28,31,30,31,30,31,31,30,31,30,31]\n",
    "yrs=np.arange(1997,2023,1)\n",
    "for i in range(len(yrs)):\n",
    "    year=yrs[i]\n",
    "    print(year)\n",
    "    count=0\n",
    "    month_days[1]=28\n",
    "    if year%4==0:\n",
    "        month_days[1]=29\n",
    "    start=0\n",
    "    end=12\n",
    "    dates_list=[]\n",
    "    for j in range(start,end):\n",
    "        print(j+1)\n",
    "        if j<9:\n",
    "            month_str='0'+str(j+1)\n",
    "        else:\n",
    "            month_str=str(j+1)\n",
    "        for k in range(month_days[j]):\n",
    "            if k<9:\n",
    "                day_str='0'+str(k+1)\n",
    "            else:\n",
    "                day_str=str(k+1)\n",
    "\n",
    "            files=glob.glob(dir_data+'MERRA2_*.tavg1_2d_flx_Nx.'+str(year)+month_str+day_str+'*.nc')\n",
    "            if len(files)!=1:\n",
    "                print('FAIL: '+str(year)+month_str+day_str+'*.nc')\n",
    "            if len(files)==1:\n",
    "                ds=xr.open_dataset(files[0])\n",
    "                dates_list.append(dt.datetime(year,j+1,k+1))\n",
    "                precip=ds['PRECTOTCORR'].sum(dim='time')*3600.\n",
    "                \n",
    "                \n",
    "                if count==0:\n",
    "                    precip_concat=precip\n",
    "                    count=1\n",
    "                else:\n",
    "                    precip_concat=xr.concat([precip_concat,precip],dim='time')\n",
    "    precip_concat['time']=dates_list\n",
    "                                  \n",
    "    dk=xr.Dataset()\n",
    "    dk['precip']=(('time','lat','lon'),precip_concat.values)\n",
    "    dk.coords['time']=precip_concat.time\n",
    "    dk.coords['lat']=precip_concat.lat.values\n",
    "    dk.coords['lon']=precip_concat.lon.values\n",
    "    dk['precip'].attrs[\"units\"]='mm*day-1'\n",
    "    dk['lat'].attrs[\"units\"]='degrees_north'\n",
    "    dk['lon'].attrs[\"units\"]='degrees_east'\n",
    "    try:\n",
    "        os.remove(dir_data+'merra2_precip_'+str(year)+'.nc')\n",
    "    except OSError:\n",
    "        pass\n",
    "    dk.to_netcdf(dir_data+'merra2_precip_'+str(year)+'.nc',mode='w',format='NETCDF4')"
   ]
  },
  {
   "cell_type": "code",
   "execution_count": null,
   "id": "80f50060",
   "metadata": {},
   "outputs": [],
   "source": [
    "import matplotlib.pyplot as plt\n",
    "import cartopy.crs as ccrs\n",
    "ds=xr.open_dataset(dir_data+'merra2_precip_'+str(2021)+'.nc')\n",
    "print(ds)\n",
    "precip=ds['precip'][163,:,:]\n",
    "fig=plt.figure(figsize=(20,10))\n",
    "ax=plt.subplot(1,1,1,projection=ccrs.PlateCarree())\n",
    "ax.pcolormesh(precip.lon,precip.lat,precip,vmin=0,vmax=50,cmap=plt.cm.RdYlGn_r)\n",
    "ax.coastlines(resolution='10m')\n",
    "plt.show()"
   ]
  },
  {
   "cell_type": "code",
   "execution_count": null,
   "id": "1fae658a",
   "metadata": {},
   "outputs": [],
   "source": [
    "ds=xr.open_dataset(dir_data+'era_5_precip_'+str(1944)+'.nc')\n",
    "print(ds)\n",
    "test=ds['precip'][300,:,:]\n",
    "\n",
    "fig=plt.figure(figsize=(20,10))\n",
    "ax=plt.subplot(1,1,1,projection=ccrs.PlateCarree())\n",
    "ax.pcolormesh(test.lon,test.lat,test,vmin=0,vmax=50,cmap=plt.cm.RdYlGn_r)\n",
    "ax.coastlines(resolution='10m')\n",
    "plt.show()"
   ]
  },
  {
   "cell_type": "code",
   "execution_count": null,
   "id": "44c04abc",
   "metadata": {},
   "outputs": [],
   "source": []
  }
 ],
 "metadata": {
  "kernelspec": {
   "display_name": "Python 3 (ipykernel)",
   "language": "python",
   "name": "python3"
  },
  "language_info": {
   "codemirror_mode": {
    "name": "ipython",
    "version": 3
   },
   "file_extension": ".py",
   "mimetype": "text/x-python",
   "name": "python",
   "nbconvert_exporter": "python",
   "pygments_lexer": "ipython3",
   "version": "3.9.12"
  }
 },
 "nbformat": 4,
 "nbformat_minor": 5
}
